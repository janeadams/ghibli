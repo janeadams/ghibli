{
 "cells": [
  {
   "cell_type": "code",
   "execution_count": 1,
   "metadata": {},
   "outputs": [],
   "source": [
    "from framefinder import *\n",
    "from color_pull import *"
   ]
  },
  {
   "cell_type": "code",
   "execution_count": 2,
   "metadata": {},
   "outputs": [],
   "source": [
    "ignore = ['.DS_Store','spirited.mkv','mononoke.mkv']"
   ]
  },
  {
   "cell_type": "code",
   "execution_count": 3,
   "metadata": {},
   "outputs": [
    {
     "data": {
      "text/plain": [
       "['porco.mkv',\n",
       " 'wind.mkv',\n",
       " 'totoro.mkv',\n",
       " 'howl.mkv',\n",
       " 'kiki.mkv',\n",
       " 'ponyo.mkv',\n",
       " 'nausicaa.mkv',\n",
       " 'laputa.mkv']"
      ]
     },
     "execution_count": 3,
     "metadata": {},
     "output_type": "execute_result"
    }
   ],
   "source": [
    "files = [x for x in get_files('video') if x not in ignore]\n",
    "files"
   ]
  },
  {
   "cell_type": "code",
   "execution_count": 4,
   "metadata": {},
   "outputs": [
    {
     "data": {
      "text/plain": [
       "['porco', 'wind', 'totoro', 'howl', 'kiki', 'ponyo', 'nausicaa', 'laputa']"
      ]
     },
     "execution_count": 4,
     "metadata": {},
     "output_type": "execute_result"
    }
   ],
   "source": [
    "films = [x[:-4] for x in files]\n",
    "films"
   ]
  },
  {
   "cell_type": "code",
   "execution_count": 5,
   "metadata": {},
   "outputs": [],
   "source": [
    "def get_film(film):\n",
    "    video_to_frames(f'video/{film}.mkv', 'frames', every=100, film=film)\n",
    "    process_frames(film)"
   ]
  },
  {
   "cell_type": "code",
   "execution_count": 6,
   "metadata": {},
   "outputs": [
    {
     "name": "stdout",
     "output_type": "stream",
     "text": [
      "Extracting frames from porco.mkv |####################################################################################################| 100.000% Complete"
     ]
    },
    {
     "name": "stderr",
     "output_type": "stream",
     "text": [
      "100% (1487 of 1487) |####################| Elapsed Time: 0:35:31 Time:  0:35:31\n"
     ]
    },
    {
     "name": "stdout",
     "output_type": "stream",
     "text": [
      "Extracting frames from wind.mkv |####################################################################################################| 100.000% Complete"
     ]
    },
    {
     "name": "stderr",
     "output_type": "stream",
     "text": [
      "100% (1819 of 1819) |####################| Elapsed Time: 0:48:05 Time:  0:48:05\n"
     ]
    },
    {
     "name": "stdout",
     "output_type": "stream",
     "text": [
      "Extracting frames from totoro.mkv |####################################################################################################| 100.000% Complete"
     ]
    },
    {
     "name": "stderr",
     "output_type": "stream",
     "text": [
      "100% (1244 of 1244) |####################| Elapsed Time: 0:31:41 Time:  0:31:41\n"
     ]
    },
    {
     "name": "stdout",
     "output_type": "stream",
     "text": [
      "Extracting frames from howl.mkv |####################################################################################################| 100.000% Complete"
     ]
    },
    {
     "name": "stderr",
     "output_type": "stream",
     "text": [
      "100% (1715 of 1715) |####################| Elapsed Time: 0:53:26 Time:  0:53:26\n"
     ]
    },
    {
     "name": "stdout",
     "output_type": "stream",
     "text": [
      "Extracting frames from kiki.mkv |####################################################################################################| 100.000% Complete"
     ]
    },
    {
     "name": "stderr",
     "output_type": "stream",
     "text": [
      "100% (1483 of 1483) |####################| Elapsed Time: 0:42:55 Time:  0:42:55\n"
     ]
    },
    {
     "name": "stdout",
     "output_type": "stream",
     "text": [
      "Extracting frames from ponyo.mkv |####################################################################################################| 100.000% Complete"
     ]
    },
    {
     "name": "stderr",
     "output_type": "stream",
     "text": [
      "100% (1451 of 1451) |####################| Elapsed Time: 0:42:05 Time:  0:42:05\n"
     ]
    },
    {
     "name": "stdout",
     "output_type": "stream",
     "text": [
      "Extracting frames from nausicaa.mkv |####################################################################################################| 100.000% Complete"
     ]
    },
    {
     "name": "stderr",
     "output_type": "stream",
     "text": [
      "100% (1684 of 1684) |####################| Elapsed Time: 0:46:06 Time:  0:46:06\n"
     ]
    },
    {
     "name": "stdout",
     "output_type": "stream",
     "text": [
      "Extracting frames from laputa.mkv |####################################################################################################| 100.000% Complete"
     ]
    },
    {
     "name": "stderr",
     "output_type": "stream",
     "text": [
      "100% (1792 of 1792) |####################| Elapsed Time: 0:51:32 Time:  0:51:32\n"
     ]
    }
   ],
   "source": [
    "for film in films:\n",
    "    get_film(film)"
   ]
  },
  {
   "cell_type": "code",
   "execution_count": null,
   "metadata": {},
   "outputs": [],
   "source": []
  }
 ],
 "metadata": {
  "kernelspec": {
   "display_name": "Python 3",
   "language": "python",
   "name": "python3"
  },
  "language_info": {
   "codemirror_mode": {
    "name": "ipython",
    "version": 3
   },
   "file_extension": ".py",
   "mimetype": "text/x-python",
   "name": "python",
   "nbconvert_exporter": "python",
   "pygments_lexer": "ipython3",
   "version": "3.8.3"
  }
 },
 "nbformat": 4,
 "nbformat_minor": 4
}
